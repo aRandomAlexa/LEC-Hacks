{
 "cells": [
  {
   "cell_type": "code",
   "execution_count": null,
   "metadata": {},
   "outputs": [
    {
     "ename": "",
     "evalue": "",
     "output_type": "error",
     "traceback": [
      "\u001b[1;31mRunning cells with '/usr/bin/python3' requires the ipykernel package.\n",
      "\u001b[1;31mRun the following command to install 'ipykernel' into the Python environment. \n",
      "\u001b[1;31mCommand: '/usr/bin/python3 -m pip install ipykernel -U --user --force-reinstall'"
     ]
    }
   ],
   "source": [
    "import os\n",
    "import shutil\n",
    "\n",
    "checkpoints = '/Users/tonywu/lechacks/colab_files'\n",
    "\n",
    "if not os.path.exists(checkpoints):\n",
    "    os.makedirs(checkpoints)\n",
    "\n",
    "if not os.path.exists('imagenet64'):\n",
    "  if not os.path.exists(checkpoints + 'images.tar'):\n",
    "    print(\"Downloading archive...\")\n",
    "    os.chdir(checkpoints)\n",
    "    !wget http://vision.stanford.edu/aditya86/ImageNetDogs/images.tar\n",
    "    os.chdir('/content/')\n",
    "  print(\"Copying to local runtime...\")\n",
    "  shutil.copy(checkpoints + 'images.tar', './images.tar')\n",
    "  print(\"Uncompressing...\")\n",
    "  !tar -xf images.tar\n",
    "print(\"Data ready!\")"
   ]
  }
 ],
 "metadata": {
  "kernelspec": {
   "display_name": "Python 3",
   "language": "python",
   "name": "python3"
  },
  "language_info": {
   "name": "python",
   "version": "3.8.9"
  }
 },
 "nbformat": 4,
 "nbformat_minor": 2
}
